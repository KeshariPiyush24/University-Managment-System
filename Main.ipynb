{
 "cells": [
  {
   "cell_type": "markdown",
   "metadata": {},
   "source": [
    "# University Management System\n",
    "## Contributors\n",
    "- [insane-banda](https://github.com/insane-banda)\n",
    "- [rohanverma2711](https://github.com/rohanverma2711)\n",
    "- [CodePredator01](https://github.com/CodePredator01)"
   ]
  },
  {
   "cell_type": "code",
   "execution_count": null,
   "metadata": {},
   "outputs": [],
   "source": [
    "# Import Dependencies\n",
    "import mysql.connector\n",
    "import re\n",
    "import pandas as pd"
   ]
  },
  {
   "cell_type": "code",
   "execution_count": null,
   "metadata": {},
   "outputs": [],
   "source": [
    "# Fetch database url form config.txt\n",
    "c = [re.findall(r\".*='(.*)'.?\", line) for line in open('.\\config.txt')]\n",
    "h = c[0][0]\n",
    "u = c[1][0]\n",
    "p = c[2][0]"
   ]
  },
  {
   "cell_type": "code",
   "execution_count": null,
   "metadata": {},
   "outputs": [],
   "source": [
    "# Establish database connection\n",
    "mydb = mysql.connector.connect(host=h,username=u,password=p,database=\"ums\")\n",
    "mycursor = mydb.cursor()"
   ]
  },
  {
   "cell_type": "code",
   "execution_count": null,
   "metadata": {},
   "outputs": [],
   "source": [
    "# Function which returns names of all the columns in input table if exists\n",
    "def getColumnNames(tableName):\n",
    "    query = \"DESCRIBE {};\".format(tableName)\n",
    "    mycursor.execute(query)\n",
    "    columns = []\n",
    "    for column in list(mycursor.fetchall()):\n",
    "        columns.append(column[0])\n",
    "    return(columns)"
   ]
  },
  {
   "cell_type": "markdown",
   "metadata": {},
   "source": [
    "# 1) Change column name from Date_of_Birth to DOB in students Table"
   ]
  },
  {
   "cell_type": "code",
   "execution_count": null,
   "metadata": {},
   "outputs": [],
   "source": [
    "mycursor.execute(\"ALTER TABLE STUDENTS CHANGE Date_of_Birth DOB DATE;\")"
   ]
  },
  {
   "cell_type": "markdown",
   "metadata": {},
   "source": [
    "# 2) Fetch all the values from students table"
   ]
  },
  {
   "cell_type": "code",
   "execution_count": null,
   "metadata": {},
   "outputs": [],
   "source": [
    "mycursor.execute(\"SELECT * FROM STUDENTS;\")\n",
    "result = mycursor.fetchall()\n",
    "columns = getColumnNames('STUDENTS')\n",
    "display(pd.DataFrame(data=result,columns=columns))"
   ]
  },
  {
   "cell_type": "markdown",
   "metadata": {},
   "source": [
    "# 3) Display students whose CPI is more than 8 and gender is male"
   ]
  },
  {
   "cell_type": "code",
   "execution_count": null,
   "metadata": {
    "scrolled": true
   },
   "outputs": [],
   "source": [
    "mycursor.execute(\"SELECT * FROM STUDENTS WHERE CPI > 8 AND GENDER = 'M';\")\n",
    "result = mycursor.fetchall()\n",
    "columns = getColumnNames('STUDENTS')\n",
    "display(pd.DataFrame(data=result,columns=columns))"
   ]
  },
  {
   "cell_type": "markdown",
   "metadata": {},
   "source": [
    "# 4) Display Infromation of students and courses from report card"
   ]
  },
  {
   "cell_type": "code",
   "execution_count": null,
   "metadata": {},
   "outputs": [],
   "source": [
    "mycursor.execute(\"SELECT STUDENTS.STUDENT_ID, CONCAT(F_NAME, ' ', L_NAME) AS S_NAME, C_Name, Midterm_Marks, Endterm_Marks FROM STUDENTS NATURAL JOIN REPORT_CARD LEFT JOIN COURSES ON REPORT_CARD.Course_ID = COURSES.Course_ID;\")\n",
    "result = mycursor.fetchall()\n",
    "display(pd.DataFrame(data=result,columns=['STUDENT_ID','S_NAME','C_NAME','MIDTERM_MARKS','ENDTERM_MARKS']))"
   ]
  },
  {
   "cell_type": "markdown",
   "metadata": {},
   "source": [
    "## Project Link\n",
    "[Github repo](https://github.com/insane-banda/University-Managment-System)"
   ]
  }
 ],
 "metadata": {
  "kernelspec": {
   "display_name": "Python 3",
   "language": "python",
   "name": "python3"
  },
  "language_info": {
   "codemirror_mode": {
    "name": "ipython",
    "version": 3
   },
   "file_extension": ".py",
   "mimetype": "text/x-python",
   "name": "python",
   "nbconvert_exporter": "python",
   "pygments_lexer": "ipython3",
   "version": "3.8.6"
  }
 },
 "nbformat": 4,
 "nbformat_minor": 2
}
