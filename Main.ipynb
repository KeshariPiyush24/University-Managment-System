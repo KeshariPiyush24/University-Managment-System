{
 "cells": [
  {
   "cell_type": "markdown",
   "metadata": {},
   "source": [
    "# Import dependencies"
   ]
  },
  {
   "cell_type": "code",
   "execution_count": 1,
   "metadata": {},
   "outputs": [],
   "source": [
    "import mysql.connector\n",
    "import getpass\n",
    "import os"
   ]
  },
  {
   "cell_type": "markdown",
   "metadata": {},
   "source": [
    "# Input database url"
   ]
  },
  {
   "cell_type": "code",
   "execution_count": 2,
   "metadata": {},
   "outputs": [
    {
     "name": "stdout",
     "output_type": "stream",
     "text": [
      "Enter field values:\n",
      "host:localhost\n",
      "user:root\n",
      "password:········\n"
     ]
    }
   ],
   "source": [
    "print(\"Enter field values:\")\n",
    "h = input(\"host:\")\n",
    "u = input(\"user:\")\n",
    "p = getpass.getpass(prompt=\"password:\")"
   ]
  },
  {
   "cell_type": "markdown",
   "metadata": {},
   "source": [
    "# Establish new connection then create schema"
   ]
  },
  {
   "cell_type": "code",
   "execution_count": 3,
   "metadata": {},
   "outputs": [],
   "source": [
    "mydb = mysql.connector.connect(\n",
    "    host=h, user=u, password=p)\n",
    "mycursor = mydb.cursor()"
   ]
  },
  {
   "cell_type": "code",
   "execution_count": 4,
   "metadata": {},
   "outputs": [
    {
     "name": "stdout",
     "output_type": "stream",
     "text": [
      "Successfully created schema.......:)\n",
      "\n"
     ]
    },
    {
     "data": {
      "text/plain": [
       "True"
      ]
     },
     "execution_count": 4,
     "metadata": {},
     "output_type": "execute_result"
    }
   ],
   "source": [
    "mycursor.execute(\"DROP SCHEMA IF EXISTS ums;\")\n",
    "f = open(\"./SQL Scripts/Create Schema/Schema.sql\")\n",
    "mycursor.execute(f.read())\n",
    "f.close()\n",
    "print(\"Successfully created schema.......:)\\n\")\n",
    "mycursor.close()"
   ]
  },
  {
   "cell_type": "markdown",
   "metadata": {},
   "source": [
    "#  Establish new connection then create non-dependent tables"
   ]
  },
  {
   "cell_type": "code",
   "execution_count": 5,
   "metadata": {},
   "outputs": [],
   "source": [
    "mydb = mysql.connector.connect(\n",
    "    host=h, user=u, password=p,database=\"ums\")\n",
    "mycursor = mydb.cursor()"
   ]
  },
  {
   "cell_type": "code",
   "execution_count": 6,
   "metadata": {},
   "outputs": [],
   "source": [
    "non_dependent_entity = [\"Students\", \"Courses\", \"Clubs\", \"Departments\", \"Login\"]"
   ]
  },
  {
   "cell_type": "code",
   "execution_count": 7,
   "metadata": {},
   "outputs": [
    {
     "name": "stdout",
     "output_type": "stream",
     "text": [
      "Creating Students table...\n",
      "successfully created Students table.......:)\n",
      "\n",
      "Creating Courses table...\n",
      "successfully created Courses table.......:)\n",
      "\n",
      "Creating Clubs table...\n",
      "successfully created Clubs table.......:)\n",
      "\n",
      "Creating Departments table...\n",
      "successfully created Departments table.......:)\n",
      "\n",
      "Creating Login table...\n",
      "successfully created Login table.......:)\n",
      "\n",
      "Completed successfully\n"
     ]
    }
   ],
   "source": [
    "for script in non_dependent_entity:\n",
    "    with open(\"./SQL Scripts/Create Tables/\"+script+\".sql\") as f:\n",
    "        print(f\"Creating {script} table...\")\n",
    "        mycursor.execute(f.read())\n",
    "        print(f\"successfully created {script} table.......:)\\n\")\n",
    "mycursor.close()\n",
    "print(\"Completed successfully\")"
   ]
  },
  {
   "cell_type": "markdown",
   "metadata": {},
   "source": [
    "#  Establish new connection then create dependent tables"
   ]
  },
  {
   "cell_type": "code",
   "execution_count": 8,
   "metadata": {},
   "outputs": [],
   "source": [
    "mydb = mysql.connector.connect(\n",
    "    host=h, user=u, password=p,database=\"ums\")\n",
    "mycursor = mydb.cursor()"
   ]
  },
  {
   "cell_type": "code",
   "execution_count": 9,
   "metadata": {},
   "outputs": [],
   "source": [
    "dependent_entity = [script for script in [x.replace(\".sql\", \"\") for x in os.listdir(\n",
    "    \"./SQL Scripts/Create Tables\")] if script not in non_dependent_entity]\n",
    "dependent_entity.sort()"
   ]
  },
  {
   "cell_type": "code",
   "execution_count": 10,
   "metadata": {},
   "outputs": [
    {
     "name": "stdout",
     "output_type": "stream",
     "text": [
      "Creating Employees table...\n",
      "successfully created Employees table.......:)\n",
      "\n",
      "Creating Faculties table...\n",
      "successfully created Faculties table.......:)\n",
      "\n",
      "Creating Report_Card table...\n",
      "successfully created Report_Card table.......:)\n",
      "\n",
      "Creating Staffs table...\n",
      "successfully created Staffs table.......:)\n",
      "\n",
      "Creating Trainers table...\n",
      "successfully created Trainers table.......:)\n",
      "\n",
      "Completed successfully\n"
     ]
    }
   ],
   "source": [
    "for script in dependent_entity:\n",
    "    with open(\"./SQL Scripts/Create Tables/\"+script+\".sql\") as f:\n",
    "        print(f\"Creating {script} table...\")\n",
    "        mydb.cursor().execute(f.read())\n",
    "        print(f\"successfully created {script} table.......:)\\n\")\n",
    "mycursor.close()\n",
    "print(\"Completed successfully\")"
   ]
  }
 ],
 "metadata": {
  "kernelspec": {
   "display_name": "Python 3",
   "language": "python",
   "name": "python3"
  },
  "language_info": {
   "codemirror_mode": {
    "name": "ipython",
    "version": 3
   },
   "file_extension": ".py",
   "mimetype": "text/x-python",
   "name": "python",
   "nbconvert_exporter": "python",
   "pygments_lexer": "ipython3",
   "version": "3.8.6"
  }
 },
 "nbformat": 4,
 "nbformat_minor": 4
}
