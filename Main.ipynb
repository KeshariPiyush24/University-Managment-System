{
 "cells": [
  {
   "cell_type": "markdown",
   "metadata": {},
   "source": [
    "# University Management System"
   ]
  },
  {
   "cell_type": "code",
   "execution_count": null,
   "metadata": {},
   "outputs": [],
   "source": [
    "# Import Dependencies\n",
    "import mysql.connector\n",
    "import re\n",
    "import pandas as pd"
   ]
  },
  {
   "cell_type": "code",
   "execution_count": null,
   "metadata": {},
   "outputs": [],
   "source": [
    "# Fetch database url form config.txt\n",
    "c = [re.findall(r\".*='(.*)'.?\", line) for line in open('.\\config.txt')]\n",
    "h = c[0][0]\n",
    "u = c[1][0]\n",
    "p = c[2][0]"
   ]
  },
  {
   "cell_type": "code",
   "execution_count": null,
   "metadata": {},
   "outputs": [],
   "source": [
    "# Establish database connection\n",
    "mydb = mysql.connector.connect(host=h,username=u,password=p,database=\"ums\")\n",
    "mycursor = mydb.cursor()"
   ]
  },
  {
   "cell_type": "code",
   "execution_count": null,
   "metadata": {},
   "outputs": [],
   "source": [
    "# Function which returns names of all the columns in input table if exists\n",
    "def getColumnNames(tableName):\n",
    "    query = \"DESCRIBE {};\".format(tableName)\n",
    "    mycursor.execute(query)\n",
    "    columns = []\n",
    "    for column in list(mycursor.fetchall()):\n",
    "        columns.append(column[0])\n",
    "    return(columns)"
   ]
  },
  {
   "cell_type": "markdown",
   "metadata": {},
   "source": [
    "# 1) Change column name from Date_of_Birth to DOB in students Table"
   ]
  },
  {
   "cell_type": "code",
   "execution_count": null,
   "metadata": {},
   "outputs": [],
   "source": [
    "mycursor.execute(\"ALTER TABLE STUDENTS CHANGE Date_of_Birth DOB DATE;\")"
   ]
  },
  {
   "cell_type": "markdown",
   "metadata": {},
   "source": [
    "# 2) Fetch all the values from students table"
   ]
  },
  {
   "cell_type": "code",
   "execution_count": null,
   "metadata": {},
   "outputs": [],
   "source": [
    "mycursor.execute(\"SELECT * FROM STUDENTS;\")\n",
    "result = mycursor.fetchall()\n",
    "columns = getColumnNames('STUDENTS')\n",
    "display(pd.DataFrame(data=result,columns=columns))"
   ]
  },
  {
   "cell_type": "markdown",
   "metadata": {},
   "source": [
    "# 3) Display students whose CPI is more than 8 and gender is male"
   ]
  },
  {
   "cell_type": "code",
   "execution_count": null,
   "metadata": {
    "scrolled": true
   },
   "outputs": [],
   "source": [
    "mycursor.execute(\"SELECT * FROM STUDENTS WHERE CPI > 8 AND GENDER = 'M';\")\n",
    "result = mycursor.fetchall()\n",
    "columns = getColumnNames('STUDENTS')\n",
    "display(pd.DataFrame(data=result,columns=columns))"
   ]
  },
  {
   "cell_type": "markdown",
   "metadata": {},
   "source": [
    "# 4) Display Infromation of students and courses from report card"
   ]
  },
  {
   "cell_type": "code",
   "execution_count": null,
   "metadata": {
    "scrolled": true
   },
   "outputs": [],
   "source": [
    "mycursor.execute(\"SELECT STUDENTS.STUDENT_ID, CONCAT(F_NAME, ' ', L_NAME) AS S_NAME, C_Name, Midterm_Marks, Endterm_Marks FROM STUDENTS NATURAL JOIN REPORT_CARD LEFT JOIN COURSES ON REPORT_CARD.Course_ID = COURSES.Course_ID;\")\n",
    "result = mycursor.fetchall()\n",
    "display(pd.DataFrame(data=result,columns=['STUDENT_ID','S_NAME','C_NAME','MIDTERM_MARKS','ENDTERM_MARKS']))"
   ]
  },
  {
   "cell_type": "markdown",
   "metadata": {},
   "source": [
    "# 5) Display all the values stored in Employees table"
   ]
  },
  {
   "cell_type": "code",
   "execution_count": null,
   "metadata": {},
   "outputs": [],
   "source": [
    "mycursor.execute(\"SELECT * FROM EMPLOYEES;\")\n",
    "result = mycursor.fetchall()\n",
    "display(pd.DataFrame(data=result,columns=getColumnNames('EMPLOYEES')))"
   ]
  },
  {
   "cell_type": "markdown",
   "metadata": {},
   "source": [
    "# 6) Display faculty details"
   ]
  },
  {
   "cell_type": "code",
   "execution_count": null,
   "metadata": {},
   "outputs": [],
   "source": [
    "mycursor.execute(\"SELECT EMPLOYEES.Emp_ID,Emp_Name,Gender,Experience FROM EMPLOYEES NATURAL JOIN FACULTIES;\")\n",
    "result = mycursor.fetchall()\n",
    "display(pd.DataFrame(data=result,columns=['Emp_ID','Emp_Name','Gender','Experience(YEARS)']))"
   ]
  },
  {
   "cell_type": "markdown",
   "metadata": {},
   "source": [
    "# 7) Display details of faculties who are also trainers"
   ]
  },
  {
   "cell_type": "code",
   "execution_count": null,
   "metadata": {},
   "outputs": [],
   "source": [
    "mycursor.execute(\"SELECT EMPLOYEES.Emp_ID,Emp_Name,Gender,Salary,Specialization FROM EMPLOYEES NATURAL JOIN FACULTIES INNER JOIN TRAINERS ON FACULTIES.Emp_ID=TRAINERS.Emp_ID;\")\n",
    "result = mycursor.fetchall()\n",
    "display(pd.DataFrame(data=result,columns=['Emp_ID','Emp_Name','Gender','Salary','Specialization']))"
   ]
  },
  {
   "cell_type": "markdown",
   "metadata": {},
   "source": [
    "# 8) Create view named Scholarship which contains S_ID, names and CPI of students with CPI > 8"
   ]
  },
  {
   "cell_type": "code",
   "execution_count": null,
   "metadata": {},
   "outputs": [],
   "source": [
    "mycursor.execute(\"CREATE OR REPLACE VIEW SCHOLARSHIP AS SELECT Student_ID,CONCAT(F_NAME,' ',L_NAME),CPI FROM STUDENTS WHERE CPI >= 8;\")\n",
    "mycursor.execute(\"SELECT * FROM SCHOLARSHIP;\")\n",
    "result = mycursor.fetchall()\n",
    "display(pd.DataFrame(data=result,columns=['Student_ID','S_NAME','CPI']))"
   ]
  },
  {
   "cell_type": "markdown",
   "metadata": {},
   "source": [
    "# 9) Find average CPI"
   ]
  },
  {
   "cell_type": "code",
   "execution_count": null,
   "metadata": {},
   "outputs": [],
   "source": [
    "mycursor.execute(\"SELECT ROUND(AVG(CPI),2) FROM STUDENTS;\")\n",
    "result = mycursor.fetchall()\n",
    "display(pd.DataFrame(data=result,columns=['AVG(CPI)']))"
   ]
  },
  {
   "cell_type": "markdown",
   "metadata": {},
   "source": [
    "# 10) Find average salary of Faculties"
   ]
  },
  {
   "cell_type": "code",
   "execution_count": null,
   "metadata": {},
   "outputs": [],
   "source": [
    "mycursor.execute(\"SELECT ROUND(AVG(SALARY),2) FROM FACULTIES NATURAL JOIN EMPLOYEES;\")\n",
    "result = mycursor.fetchall()\n",
    "display(pd.DataFrame(data=result,columns=['AVG(Salary)']))"
   ]
  },
  {
   "cell_type": "markdown",
   "metadata": {},
   "source": [
    "# 11) Find average salary of Trainers"
   ]
  },
  {
   "cell_type": "code",
   "execution_count": null,
   "metadata": {},
   "outputs": [],
   "source": [
    "mycursor.execute(\"SELECT ROUND(AVG(SALARY),2) FROM TRAINERS NATURAL JOIN EMPLOYEES;\")\n",
    "result = mycursor.fetchall()\n",
    "display(pd.DataFrame(data=result,columns=['AVG(Salary)']))"
   ]
  },
  {
   "cell_type": "markdown",
   "metadata": {},
   "source": [
    "# 12) Find average salary of Staffs"
   ]
  },
  {
   "cell_type": "code",
   "execution_count": null,
   "metadata": {},
   "outputs": [],
   "source": [
    "mycursor.execute(\"SELECT ROUND(AVG(SALARY),2) FROM STAFFS NATURAL JOIN EMPLOYEES;\")\n",
    "result = mycursor.fetchall()\n",
    "display(pd.DataFrame(data=result,columns=['AVG(Salary)']))"
   ]
  },
  {
   "cell_type": "markdown",
   "metadata": {},
   "source": [
    "# 13) Update email of Student named Jay"
   ]
  },
  {
   "cell_type": "code",
   "execution_count": null,
   "metadata": {},
   "outputs": [],
   "source": [
    "mycursor.execute(\"UPDATE STUDENTS SET Email='jay@anyway.com' WHERE F_NAME = 'Jay';\")"
   ]
  },
  {
   "cell_type": "markdown",
   "metadata": {},
   "source": [
    "# 14) Add a column named type in staffs"
   ]
  },
  {
   "cell_type": "code",
   "execution_count": null,
   "metadata": {},
   "outputs": [],
   "source": [
    "mycursor.execute(\"ALTER TABLE STAFFS ADD COLUMN Type VARCHAR(255) DEFAULT 'Lease';\")\n",
    "mycursor.execute(\"SELECT * FROM STAFFS;\")\n",
    "result = mycursor.fetchall()\n",
    "display(pd.DataFrame(data=result,columns=getColumnNames('STAFFS')))"
   ]
  },
  {
   "cell_type": "markdown",
   "metadata": {},
   "source": [
    "# 15) Display Employees details with department names in which they work"
   ]
  },
  {
   "cell_type": "code",
   "execution_count": null,
   "metadata": {},
   "outputs": [],
   "source": [
    "mycursor.execute(\"SELECT Emp_ID,Emp_NAME,Gender,DEPT_NAME FROM EMPLOYEES LEFT JOIN DEPARTMENTS ON DEPT_ID = Department;\")\n",
    "result = mycursor.fetchall()\n",
    "display(pd.DataFrame(data=result,columns=['Emp_ID','Emp_NAME','Gender','Department']))"
   ]
  },
  {
   "cell_type": "markdown",
   "metadata": {},
   "source": [
    "# 16) Insert few values in Joined relation"
   ]
  },
  {
   "cell_type": "code",
   "execution_count": null,
   "metadata": {},
   "outputs": [],
   "source": [
    "mycursor.execute(\"INSERT INTO JOINED VALUES (456,1235),(456,3456),(345,9879),(567,3456),(567,9879),(567,5674),(234,7651),(678,8762),(789,8762),(987,5674);\")"
   ]
  },
  {
   "cell_type": "markdown",
   "metadata": {},
   "source": [
    "# 17) Display details of clubs along with total number of students joined"
   ]
  },
  {
   "cell_type": "code",
   "execution_count": null,
   "metadata": {},
   "outputs": [],
   "source": [
    "mycursor.execute(\"SELECT CLUBS.Club_ID,Club_Name,Reg_Fees,COUNT(DISTINCT Student_ID) FROM CLUBS LEFT JOIN JOINED ON JOINED.Club_ID=CLUBS.Club_ID GROUP BY Club_ID;\")\n",
    "result = mycursor.fetchall()\n",
    "display(pd.DataFrame(data=result,columns=['Club_ID','Club_Name','Reg_Fees','Enrollment']))"
   ]
  },
  {
   "cell_type": "markdown",
   "metadata": {},
   "source": [
    "# 18) Display structure of Employees Table"
   ]
  },
  {
   "cell_type": "code",
   "execution_count": null,
   "metadata": {},
   "outputs": [],
   "source": [
    "mycursor.execute(\"DESCRIBE EMPLOYEES;\")\n",
    "result = mycursor.fetchall()\n",
    "display(pd.DataFrame(data=result,columns=['Field','Type','Null','Key','Default','Extra']))"
   ]
  },
  {
   "cell_type": "markdown",
   "metadata": {},
   "source": [
    "# 19) Display information of students who didn't took part in any club"
   ]
  },
  {
   "cell_type": "code",
   "execution_count": null,
   "metadata": {},
   "outputs": [],
   "source": [
    "mycursor.execute(\"SELECT * FROM STUDENTS WHERE STUDENT_ID NOT IN (SELECT DISTINCT STUDENT_ID FROM joined);\")\n",
    "result = mycursor.fetchall()\n",
    "display(pd.DataFrame(data=result,columns=getColumnNames('STUDENTS')))"
   ]
  },
  {
   "cell_type": "markdown",
   "metadata": {},
   "source": [
    "# 20) Delete information of students who have CPI less than 7.0 because they are expelled from university"
   ]
  },
  {
   "cell_type": "code",
   "execution_count": null,
   "metadata": {},
   "outputs": [],
   "source": [
    "mycursor.execute(\"DELETE FROM STUDENTS WHERE CPI < 7.0;\")"
   ]
  },
  {
   "cell_type": "markdown",
   "metadata": {},
   "source": [
    "# 21) Display information who joined more than 1 clubs along with club counts"
   ]
  },
  {
   "cell_type": "code",
   "execution_count": null,
   "metadata": {},
   "outputs": [],
   "source": [
    "mycursor.execute(\"SELECT CONCAT(F_NAME,' ',L_NAME) AS S_Name,COUNT(*) AS Club_Count FROM JOINED NATURAL JOIN STUDENTS GROUP BY Student_ID HAVING Club_Count > 1;\")\n",
    "result = mycursor.fetchall()\n",
    "display(pd.DataFrame(data=result,columns=['S_Name','Club_Count']))"
   ]
  },
  {
   "cell_type": "markdown",
   "metadata": {},
   "source": [
    "# 22) Display information of courses starting with 'C'"
   ]
  },
  {
   "cell_type": "code",
   "execution_count": null,
   "metadata": {},
   "outputs": [],
   "source": [
    "mycursor.execute(\"SELECT * FROM COURSES WHERE C_Name LIKE 'C%';\")\n",
    "result = mycursor.fetchall()\n",
    "display(pd.DataFrame(data=result,columns=getColumnNames('COURSES')))"
   ]
  },
  {
   "cell_type": "markdown",
   "metadata": {},
   "source": [
    "# 23) Truncate table Staffs"
   ]
  },
  {
   "cell_type": "code",
   "execution_count": null,
   "metadata": {},
   "outputs": [],
   "source": [
    "mycursor.execute(\"TRUNCATE TABLE STAFFS;\")"
   ]
  },
  {
   "cell_type": "markdown",
   "metadata": {},
   "source": [
    "# 24) Delete table Staffs"
   ]
  },
  {
   "cell_type": "code",
   "execution_count": null,
   "metadata": {},
   "outputs": [],
   "source": [
    "mycursor.execute(\"DROP TABLE STAFFS;\")"
   ]
  },
  {
   "cell_type": "markdown",
   "metadata": {},
   "source": [
    "# 25) Drop schema ums"
   ]
  },
  {
   "cell_type": "code",
   "execution_count": null,
   "metadata": {},
   "outputs": [],
   "source": [
    "mycursor.execute(\"DROP SCHEMA UMS;\")"
   ]
  }
 ],
 "metadata": {
  "kernelspec": {
   "display_name": "Python 3",
   "language": "python",
   "name": "python3"
  },
  "language_info": {
   "codemirror_mode": {
    "name": "ipython",
    "version": 3
   },
   "file_extension": ".py",
   "mimetype": "text/x-python",
   "name": "python",
   "nbconvert_exporter": "python",
   "pygments_lexer": "ipython3",
   "version": "3.8.6"
  }
 },
 "nbformat": 4,
 "nbformat_minor": 2
}